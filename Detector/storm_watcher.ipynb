{
 "cells": [
  {
   "cell_type": "markdown",
   "id": "b1652eea",
   "metadata": {},
   "source": [
    "### Crea un mapa con los eventos registrados en el archivo por el sensor GLM."
   ]
  },
  {
   "cell_type": "code",
   "execution_count": 1,
   "id": "70bdcd77",
   "metadata": {},
   "outputs": [
    {
     "name": "stdout",
     "output_type": "stream",
     "text": [
      "Requirement already satisfied: netCDF4 in c:\\users\\fabri\\appdata\\local\\programs\\python\\python311\\lib\\site-packages (1.6.5)\n",
      "Requirement already satisfied: cftime in c:\\users\\fabri\\appdata\\local\\programs\\python\\python311\\lib\\site-packages (from netCDF4) (1.6.3)\n",
      "Requirement already satisfied: certifi in c:\\users\\fabri\\appdata\\local\\programs\\python\\python311\\lib\\site-packages (from netCDF4) (2025.8.3)\n",
      "Requirement already satisfied: numpy in c:\\users\\fabri\\appdata\\local\\programs\\python\\python311\\lib\\site-packages (from netCDF4) (1.26.2)\n"
     ]
    },
    {
     "name": "stderr",
     "output_type": "stream",
     "text": [
      "\n",
      "[notice] A new release of pip is available: 24.1 -> 25.2\n",
      "[notice] To update, run: python.exe -m pip install --upgrade pip\n"
     ]
    },
    {
     "name": "stdout",
     "output_type": "stream",
     "text": [
      "Requirement already satisfied: datetime in c:\\users\\fabri\\appdata\\local\\programs\\python\\python311\\lib\\site-packages (5.4)\n",
      "Requirement already satisfied: zope.interface in c:\\users\\fabri\\appdata\\local\\programs\\python\\python311\\lib\\site-packages (from datetime) (6.1)\n",
      "Requirement already satisfied: pytz in c:\\users\\fabri\\appdata\\local\\programs\\python\\python311\\lib\\site-packages (from datetime) (2024.2)\n",
      "Requirement already satisfied: setuptools in c:\\users\\fabri\\appdata\\roaming\\python\\python311\\site-packages (from zope.interface->datetime) (69.0.3)\n"
     ]
    },
    {
     "name": "stderr",
     "output_type": "stream",
     "text": [
      "\n",
      "[notice] A new release of pip is available: 24.1 -> 25.2\n",
      "[notice] To update, run: python.exe -m pip install --upgrade pip\n",
      "ERROR: Could not find a version that satisfies the requirement glob (from versions: none)\n",
      "ERROR: No matching distribution found for glob\n",
      "\n",
      "[notice] A new release of pip is available: 24.1 -> 25.2\n",
      "[notice] To update, run: python.exe -m pip install --upgrade pip\n"
     ]
    },
    {
     "name": "stdout",
     "output_type": "stream",
     "text": [
      "Requirement already satisfied: basemap in c:\\users\\fabri\\appdata\\local\\programs\\python\\python311\\lib\\site-packages (1.4.0)\n",
      "Requirement already satisfied: basemap-data<1.4,>=1.3.2 in c:\\users\\fabri\\appdata\\local\\programs\\python\\python311\\lib\\site-packages (from basemap) (1.3.2)\n",
      "Requirement already satisfied: pyshp<2.4,>=1.2 in c:\\users\\fabri\\appdata\\local\\programs\\python\\python311\\lib\\site-packages (from basemap) (2.3.1)\n",
      "Requirement already satisfied: matplotlib<3.9,>=1.5 in c:\\users\\fabri\\appdata\\local\\programs\\python\\python311\\lib\\site-packages (from basemap) (3.8.2)\n",
      "Requirement already satisfied: pyproj<3.7.0,>=1.9.3 in c:\\users\\fabri\\appdata\\local\\programs\\python\\python311\\lib\\site-packages (from basemap) (3.6.1)\n",
      "Requirement already satisfied: packaging<24.0,>=16.0 in c:\\users\\fabri\\appdata\\local\\programs\\python\\python311\\lib\\site-packages (from basemap) (23.2)\n",
      "Requirement already satisfied: numpy<1.27,>=1.21 in c:\\users\\fabri\\appdata\\local\\programs\\python\\python311\\lib\\site-packages (from basemap) (1.26.2)\n",
      "Requirement already satisfied: contourpy>=1.0.1 in c:\\users\\fabri\\appdata\\local\\programs\\python\\python311\\lib\\site-packages (from matplotlib<3.9,>=1.5->basemap) (1.2.0)\n",
      "Requirement already satisfied: cycler>=0.10 in c:\\users\\fabri\\appdata\\local\\programs\\python\\python311\\lib\\site-packages (from matplotlib<3.9,>=1.5->basemap) (0.12.1)\n",
      "Requirement already satisfied: fonttools>=4.22.0 in c:\\users\\fabri\\appdata\\local\\programs\\python\\python311\\lib\\site-packages (from matplotlib<3.9,>=1.5->basemap) (4.46.0)\n",
      "Requirement already satisfied: kiwisolver>=1.3.1 in c:\\users\\fabri\\appdata\\local\\programs\\python\\python311\\lib\\site-packages (from matplotlib<3.9,>=1.5->basemap) (1.4.5)\n",
      "Requirement already satisfied: pillow>=8 in c:\\users\\fabri\\appdata\\local\\programs\\python\\python311\\lib\\site-packages (from matplotlib<3.9,>=1.5->basemap) (10.1.0)\n",
      "Requirement already satisfied: pyparsing>=2.3.1 in c:\\users\\fabri\\appdata\\local\\programs\\python\\python311\\lib\\site-packages (from matplotlib<3.9,>=1.5->basemap) (3.1.1)\n",
      "Requirement already satisfied: python-dateutil>=2.7 in c:\\users\\fabri\\appdata\\local\\programs\\python\\python311\\lib\\site-packages (from matplotlib<3.9,>=1.5->basemap) (2.9.0.post0)\n",
      "Requirement already satisfied: certifi in c:\\users\\fabri\\appdata\\local\\programs\\python\\python311\\lib\\site-packages (from pyproj<3.7.0,>=1.9.3->basemap) (2025.8.3)\n",
      "Requirement already satisfied: six>=1.5 in c:\\users\\fabri\\appdata\\local\\programs\\python\\python311\\lib\\site-packages (from python-dateutil>=2.7->matplotlib<3.9,>=1.5->basemap) (1.16.0)\n"
     ]
    },
    {
     "name": "stderr",
     "output_type": "stream",
     "text": [
      "\n",
      "[notice] A new release of pip is available: 24.1 -> 25.2\n",
      "[notice] To update, run: python.exe -m pip install --upgrade pip\n"
     ]
    },
    {
     "name": "stdout",
     "output_type": "stream",
     "text": [
      "Requirement already satisfied: pandas in c:\\users\\fabri\\appdata\\local\\programs\\python\\python311\\lib\\site-packages (2.2.1)\n",
      "Requirement already satisfied: numpy<2,>=1.23.2 in c:\\users\\fabri\\appdata\\local\\programs\\python\\python311\\lib\\site-packages (from pandas) (1.26.2)\n",
      "Requirement already satisfied: python-dateutil>=2.8.2 in c:\\users\\fabri\\appdata\\local\\programs\\python\\python311\\lib\\site-packages (from pandas) (2.9.0.post0)\n",
      "Requirement already satisfied: pytz>=2020.1 in c:\\users\\fabri\\appdata\\local\\programs\\python\\python311\\lib\\site-packages (from pandas) (2024.2)\n",
      "Requirement already satisfied: tzdata>=2022.7 in c:\\users\\fabri\\appdata\\local\\programs\\python\\python311\\lib\\site-packages (from pandas) (2024.1)\n",
      "Requirement already satisfied: six>=1.5 in c:\\users\\fabri\\appdata\\local\\programs\\python\\python311\\lib\\site-packages (from python-dateutil>=2.8.2->pandas) (1.16.0)\n"
     ]
    },
    {
     "name": "stderr",
     "output_type": "stream",
     "text": [
      "\n",
      "[notice] A new release of pip is available: 24.1 -> 25.2\n",
      "[notice] To update, run: python.exe -m pip install --upgrade pip\n"
     ]
    }
   ],
   "source": [
    "# Instala las librerías necesarias\n",
    "!pip install netCDF4\n",
    "!pip install datetime\n",
    "!pip install glob\n",
    "!pip install basemap\n",
    "!pip install pandas"
   ]
  },
  {
   "cell_type": "code",
   "execution_count": 2,
   "id": "c9e58d6d",
   "metadata": {},
   "outputs": [],
   "source": [
    "# Importa las librerías necesarias\n",
    "import os\n",
    "from mpl_toolkits.basemap import Basemap\n",
    "import matplotlib.pyplot as plt\n",
    "from matplotlib.pyplot import figure\n",
    "import numpy as np\n",
    "from netCDF4 import Dataset\n",
    "import netCDF4 as nc\n",
    "import glob\n",
    "import pandas as pd\n",
    "import datetime\n",
    "import cv2"
   ]
  },
  {
   "cell_type": "code",
   "execution_count": 3,
   "id": "86ae1fe8",
   "metadata": {},
   "outputs": [],
   "source": [
    "# Define rutas de interes\n",
    "ruta_notebook = os.getcwd()\n",
    "ruta_figuras = os.path.join(ruta_notebook, 'Salidas/')\n",
    "ruta_dir_padre = os.path.dirname(ruta_notebook)\n",
    "ruta_files = ruta_dir_padre + '/Descarga/Archivos'"
   ]
  },
  {
   "cell_type": "code",
   "execution_count": 4,
   "id": "de11ab12",
   "metadata": {},
   "outputs": [],
   "source": [
    "# Limpia los archivos .png ya existentes en Salida\n",
    "files_existentes = glob.glob(os.path.join(ruta_figuras, '*.png'))\n",
    "for f in files_existentes:\n",
    "    os.remove(f)"
   ]
  },
  {
   "cell_type": "code",
   "execution_count": 5,
   "id": "9e82e70c",
   "metadata": {},
   "outputs": [],
   "source": [
    "# Limpia los archivos .mp4 ya existentes en Salida\n",
    "files_existentes = glob.glob(os.path.join(ruta_figuras, '*.mp4'))\n",
    "for f in files_existentes:\n",
    "    os.remove(f)"
   ]
  },
  {
   "cell_type": "code",
   "execution_count": 6,
   "id": "fee5cd20",
   "metadata": {},
   "outputs": [],
   "source": [
    "# Carga las coordenadas del punto de interes\n",
    "localidad = 'Buenos Aires'\n",
    "lat_loc = -34.61\n",
    "lon_loc = -58.39"
   ]
  },
  {
   "cell_type": "code",
   "execution_count": 7,
   "id": "595d7bc6",
   "metadata": {},
   "outputs": [],
   "source": [
    "# Area de graficado\n",
    "delta = 2.00\n",
    "lat_n_area = lat_loc + delta\n",
    "lat_s_area = lat_loc - delta\n",
    "lon_w_area = lon_loc - delta\n",
    "lon_e_area = lon_loc + delta"
   ]
  },
  {
   "cell_type": "code",
   "execution_count": 8,
   "id": "502b8cc0",
   "metadata": {},
   "outputs": [
    {
     "name": "stdout",
     "output_type": "stream",
     "text": [
      "20252552331000\n",
      "20252552331200\n",
      "20252552331400\n",
      "20252552332000\n",
      "20252552332200\n",
      "20252552332400\n",
      "20252552333000\n",
      "20252552333200\n",
      "20252552333400\n",
      "20252552334000\n",
      "20252552334200\n",
      "20252552334400\n"
     ]
    }
   ],
   "source": [
    "# Ubica todos los archivos en la carpeta de repositorio\n",
    "files = glob.glob(ruta_files + '/*.nc')\n",
    "for f in files:\n",
    "\n",
    "    #Carga las variables desde los archivos\n",
    "    filename = f\n",
    "    barrido = filename[-49:-35]                      # Fecha y hora del escaneo (archivo)\n",
    "    print(barrido)\n",
    "    data = Dataset(filename)\n",
    "    group_lat = data.variables['group_lat'][:]       # Latitud de grupo (grados norte) [º]\n",
    "    group_lon = data.variables['group_lon'][:]       # Longitud de grupo (grados este) [º]\n",
    "\n",
    "    # Grafica los grupos registrados\n",
    "    fig = plt.figure(figsize=(8, 6), facecolor='black')\n",
    "\n",
    "    m = Basemap(projection='merc',\n",
    "                llcrnrlat=lat_s_area, urcrnrlat=lat_n_area,\n",
    "                llcrnrlon=lon_w_area, urcrnrlon=lon_e_area,\n",
    "                resolution='i')\n",
    "\n",
    "    # Fondo y continentes\n",
    "    m.drawmapboundary(fill_color='black')\n",
    "    m.fillcontinents(color='dimgray', lake_color='black')\n",
    "\n",
    "    # Costas, países, estados\n",
    "    m.drawcoastlines(color='white')\n",
    "    m.drawcountries(color='white')\n",
    "    m.drawstates(color='white', linewidth=0.5, linestyle='dotted')\n",
    "\n",
    "    # Puntos de detección\n",
    "    m.scatter(group_lon, group_lat, latlon=True, s=10, c='red', alpha=1)\n",
    "\n",
    "    # Localidad\n",
    "    x_loc, y_loc = m(lon_loc + 0.06, lat_loc)\n",
    "    plt.text(x_loc, y_loc, localidad, color='white', fontsize=10)\n",
    "    plt.text(1.0, 1.0, 'Group detections', color='red', fontsize=10)\n",
    "\n",
    "    # Guarda figura\n",
    "    plt.savefig(os.path.join(ruta_figuras, f'Mapa_Group_{barrido}.png'),\n",
    "                dpi=300, bbox_inches='tight', facecolor='black')\n",
    "    \n",
    "    # Cierra figura\n",
    "    plt.close(fig)\n",
    "\n",
    "    del filename, data, barrido, group_lat, group_lon\n",
    "\n",
    "del files"
   ]
  },
  {
   "cell_type": "markdown",
   "id": "08228b1c",
   "metadata": {},
   "source": [
    "### Animación de grupos"
   ]
  },
  {
   "cell_type": "code",
   "execution_count": 9,
   "id": "b997c3b3",
   "metadata": {},
   "outputs": [],
   "source": [
    "# Encuentra todas las imágenes PNG y ordénalas por nombre\n",
    "imagenes = sorted(glob.glob(ruta_figuras + '*.png'))"
   ]
  },
  {
   "cell_type": "code",
   "execution_count": 10,
   "id": "b8611d29",
   "metadata": {},
   "outputs": [],
   "source": [
    "# Se asegura que hay imágenes\n",
    "if len(imagenes) == 0:\n",
    "    raise ValueError(\"No se encontraron imágenes en la carpeta especificada.\")"
   ]
  },
  {
   "cell_type": "code",
   "execution_count": 11,
   "id": "89daf8dc",
   "metadata": {},
   "outputs": [],
   "source": [
    "# Obtiene las dimensiones de la primera imagen\n",
    "frame = cv2.imread(imagenes[0])\n",
    "altura, ancho, canales = frame.shape"
   ]
  },
  {
   "cell_type": "code",
   "execution_count": 12,
   "id": "d6848f10",
   "metadata": {},
   "outputs": [],
   "source": [
    "# Define el nombre y codec del video de salida\n",
    "nombre_video = os.path.join(ruta_figuras, 'animacion_groups_GLM.mp4')\n",
    "fourcc = cv2.VideoWriter_fourcc(*'mp4v')  # Codec para mp4\n",
    "fps = 1  # frames por segundo"
   ]
  },
  {
   "cell_type": "code",
   "execution_count": 13,
   "id": "878794a8",
   "metadata": {},
   "outputs": [],
   "source": [
    "# Crea el objeto VideoWriter\n",
    "video = cv2.VideoWriter(nombre_video, fourcc, fps, (ancho, altura))"
   ]
  },
  {
   "cell_type": "code",
   "execution_count": 14,
   "id": "eef7be95",
   "metadata": {},
   "outputs": [],
   "source": [
    "# Agrega cada imagen al video\n",
    "for img_path in imagenes:\n",
    "    frame = cv2.imread(img_path)\n",
    "    video.write(frame)"
   ]
  },
  {
   "cell_type": "code",
   "execution_count": 15,
   "id": "d01972a9",
   "metadata": {},
   "outputs": [],
   "source": [
    "# Libera el objeto VideoWriter\n",
    "video.release()"
   ]
  }
 ],
 "metadata": {
  "kernelspec": {
   "display_name": "Python 3",
   "language": "python",
   "name": "python3"
  },
  "language_info": {
   "codemirror_mode": {
    "name": "ipython",
    "version": 3
   },
   "file_extension": ".py",
   "mimetype": "text/x-python",
   "name": "python",
   "nbconvert_exporter": "python",
   "pygments_lexer": "ipython3",
   "version": "3.11.5"
  }
 },
 "nbformat": 4,
 "nbformat_minor": 5
}
