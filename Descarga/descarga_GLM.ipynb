{
 "cells": [
  {
   "cell_type": "markdown",
   "id": "321ef561",
   "metadata": {},
   "source": [
    "### Descarga el último archivo gerenado por el sensor GLM del GOES-19 del repositorio"
   ]
  },
  {
   "cell_type": "code",
   "execution_count": 1,
   "id": "7d5fe0af",
   "metadata": {},
   "outputs": [
    {
     "name": "stdout",
     "output_type": "stream",
     "text": [
      "Requirement already satisfied: netCDF4 in c:\\users\\fabri\\appdata\\local\\programs\\python\\python311\\lib\\site-packages (1.6.5)\n",
      "Requirement already satisfied: cftime in c:\\users\\fabri\\appdata\\local\\programs\\python\\python311\\lib\\site-packages (from netCDF4) (1.6.3)\n",
      "Requirement already satisfied: certifi in c:\\users\\fabri\\appdata\\local\\programs\\python\\python311\\lib\\site-packages (from netCDF4) (2025.8.3)\n",
      "Requirement already satisfied: numpy in c:\\users\\fabri\\appdata\\local\\programs\\python\\python311\\lib\\site-packages (from netCDF4) (1.26.2)\n"
     ]
    },
    {
     "name": "stderr",
     "output_type": "stream",
     "text": [
      "\n",
      "[notice] A new release of pip is available: 24.1 -> 25.2\n",
      "[notice] To update, run: python.exe -m pip install --upgrade pip\n"
     ]
    },
    {
     "name": "stdout",
     "output_type": "stream",
     "text": [
      "Requirement already satisfied: datetime in c:\\users\\fabri\\appdata\\local\\programs\\python\\python311\\lib\\site-packages (5.4)\n",
      "Requirement already satisfied: zope.interface in c:\\users\\fabri\\appdata\\local\\programs\\python\\python311\\lib\\site-packages (from datetime) (6.1)\n",
      "Requirement already satisfied: pytz in c:\\users\\fabri\\appdata\\local\\programs\\python\\python311\\lib\\site-packages (from datetime) (2024.2)\n",
      "Requirement already satisfied: setuptools in c:\\users\\fabri\\appdata\\roaming\\python\\python311\\site-packages (from zope.interface->datetime) (69.0.3)\n"
     ]
    },
    {
     "name": "stderr",
     "output_type": "stream",
     "text": [
      "\n",
      "[notice] A new release of pip is available: 24.1 -> 25.2\n",
      "[notice] To update, run: python.exe -m pip install --upgrade pip\n",
      "ERROR: Could not find a version that satisfies the requirement glob (from versions: none)\n",
      "ERROR: No matching distribution found for glob\n",
      "\n",
      "[notice] A new release of pip is available: 24.1 -> 25.2\n",
      "[notice] To update, run: python.exe -m pip install --upgrade pip\n"
     ]
    },
    {
     "name": "stdout",
     "output_type": "stream",
     "text": [
      "Requirement already satisfied: s3fs in c:\\users\\fabri\\appdata\\local\\programs\\python\\python311\\lib\\site-packages (2023.12.2)\n",
      "Requirement already satisfied: aiobotocore<3.0.0,>=2.5.4 in c:\\users\\fabri\\appdata\\local\\programs\\python\\python311\\lib\\site-packages (from s3fs) (2.11.0)\n",
      "Requirement already satisfied: fsspec==2023.12.2 in c:\\users\\fabri\\appdata\\local\\programs\\python\\python311\\lib\\site-packages (from s3fs) (2023.12.2)\n",
      "Requirement already satisfied: aiohttp!=4.0.0a0,!=4.0.0a1 in c:\\users\\fabri\\appdata\\local\\programs\\python\\python311\\lib\\site-packages (from s3fs) (3.10.5)\n",
      "Requirement already satisfied: botocore<1.34.23,>=1.33.2 in c:\\users\\fabri\\appdata\\local\\programs\\python\\python311\\lib\\site-packages (from aiobotocore<3.0.0,>=2.5.4->s3fs) (1.34.22)\n",
      "Requirement already satisfied: wrapt<2.0.0,>=1.10.10 in c:\\users\\fabri\\appdata\\local\\programs\\python\\python311\\lib\\site-packages (from aiobotocore<3.0.0,>=2.5.4->s3fs) (1.16.0)\n",
      "Requirement already satisfied: aioitertools<1.0.0,>=0.5.1 in c:\\users\\fabri\\appdata\\local\\programs\\python\\python311\\lib\\site-packages (from aiobotocore<3.0.0,>=2.5.4->s3fs) (0.11.0)\n",
      "Requirement already satisfied: aiohappyeyeballs>=2.3.0 in c:\\users\\fabri\\appdata\\local\\programs\\python\\python311\\lib\\site-packages (from aiohttp!=4.0.0a0,!=4.0.0a1->s3fs) (2.4.0)\n",
      "Requirement already satisfied: aiosignal>=1.1.2 in c:\\users\\fabri\\appdata\\local\\programs\\python\\python311\\lib\\site-packages (from aiohttp!=4.0.0a0,!=4.0.0a1->s3fs) (1.3.1)\n",
      "Requirement already satisfied: attrs>=17.3.0 in c:\\users\\fabri\\appdata\\local\\programs\\python\\python311\\lib\\site-packages (from aiohttp!=4.0.0a0,!=4.0.0a1->s3fs) (24.2.0)\n",
      "Requirement already satisfied: frozenlist>=1.1.1 in c:\\users\\fabri\\appdata\\local\\programs\\python\\python311\\lib\\site-packages (from aiohttp!=4.0.0a0,!=4.0.0a1->s3fs) (1.4.1)\n",
      "Requirement already satisfied: multidict<7.0,>=4.5 in c:\\users\\fabri\\appdata\\local\\programs\\python\\python311\\lib\\site-packages (from aiohttp!=4.0.0a0,!=4.0.0a1->s3fs) (6.1.0)\n",
      "Requirement already satisfied: yarl<2.0,>=1.0 in c:\\users\\fabri\\appdata\\local\\programs\\python\\python311\\lib\\site-packages (from aiohttp!=4.0.0a0,!=4.0.0a1->s3fs) (1.11.1)\n",
      "Requirement already satisfied: jmespath<2.0.0,>=0.7.1 in c:\\users\\fabri\\appdata\\local\\programs\\python\\python311\\lib\\site-packages (from botocore<1.34.23,>=1.33.2->aiobotocore<3.0.0,>=2.5.4->s3fs) (0.10.0)\n",
      "Requirement already satisfied: python-dateutil<3.0.0,>=2.1 in c:\\users\\fabri\\appdata\\local\\programs\\python\\python311\\lib\\site-packages (from botocore<1.34.23,>=1.33.2->aiobotocore<3.0.0,>=2.5.4->s3fs) (2.9.0.post0)\n",
      "Requirement already satisfied: urllib3<2.1,>=1.25.4 in c:\\users\\fabri\\appdata\\local\\programs\\python\\python311\\lib\\site-packages (from botocore<1.34.23,>=1.33.2->aiobotocore<3.0.0,>=2.5.4->s3fs) (2.0.7)\n",
      "Requirement already satisfied: idna>=2.0 in c:\\users\\fabri\\appdata\\local\\programs\\python\\python311\\lib\\site-packages (from yarl<2.0,>=1.0->aiohttp!=4.0.0a0,!=4.0.0a1->s3fs) (3.10)\n",
      "Requirement already satisfied: six>=1.5 in c:\\users\\fabri\\appdata\\local\\programs\\python\\python311\\lib\\site-packages (from python-dateutil<3.0.0,>=2.1->botocore<1.34.23,>=1.33.2->aiobotocore<3.0.0,>=2.5.4->s3fs) (1.16.0)\n"
     ]
    },
    {
     "name": "stderr",
     "output_type": "stream",
     "text": [
      "\n",
      "[notice] A new release of pip is available: 24.1 -> 25.2\n",
      "[notice] To update, run: python.exe -m pip install --upgrade pip\n"
     ]
    }
   ],
   "source": [
    "# Instala las librerías necesarias\n",
    "!pip install netCDF4\n",
    "!pip install datetime\n",
    "!pip install glob\n",
    "!pip install s3fs"
   ]
  },
  {
   "cell_type": "code",
   "execution_count": 2,
   "id": "737899f5",
   "metadata": {},
   "outputs": [],
   "source": [
    "# Importa las librerías necesarias\n",
    "import os\n",
    "import numpy as np\n",
    "from netCDF4 import Dataset\n",
    "import netCDF4 as nc\n",
    "import s3fs\n",
    "import datetime\n",
    "import glob"
   ]
  },
  {
   "cell_type": "code",
   "execution_count": 3,
   "id": "f886476f",
   "metadata": {},
   "outputs": [],
   "source": [
    "# Obtiene fecha y hora actual UTC\n",
    "time_utc = datetime.datetime.utcnow()\n",
    "año_tex = str(time_utc.year)\n",
    "hora_tex = f\"{time_utc.hour:02d}\"  # Dos dígitos\n",
    "dia_tex = f\"{time_utc.timetuple().tm_yday:03d}\"  # Tres dígitos"
   ]
  },
  {
   "cell_type": "code",
   "execution_count": 4,
   "id": "5d969e88",
   "metadata": {},
   "outputs": [
    {
     "name": "stdout",
     "output_type": "stream",
     "text": [
      "2025\n",
      "255\n",
      "23\n"
     ]
    }
   ],
   "source": [
    "print(año_tex)\n",
    "print(dia_tex)\n",
    "print(hora_tex)"
   ]
  },
  {
   "cell_type": "code",
   "execution_count": 5,
   "id": "0f64a5d2",
   "metadata": {},
   "outputs": [],
   "source": [
    "# Rutas de archivos\n",
    "ruta_notebook = os.getcwd()\n",
    "ruta_files = os.path.join(ruta_notebook, 'Archivos')"
   ]
  },
  {
   "cell_type": "code",
   "execution_count": 6,
   "id": "96e5c180",
   "metadata": {},
   "outputs": [],
   "source": [
    "# Crea la carpeta Archivos si no existe\n",
    "os.makedirs(ruta_files, exist_ok=True)"
   ]
  },
  {
   "cell_type": "code",
   "execution_count": 7,
   "id": "61c80107",
   "metadata": {},
   "outputs": [],
   "source": [
    "# Limpia los archivos .nc ya existentes en Archivos\n",
    "files_existentes = glob.glob(os.path.join(ruta_files, '*.nc'))\n",
    "for f in files_existentes:\n",
    "    os.remove(f)"
   ]
  },
  {
   "cell_type": "code",
   "execution_count": 8,
   "id": "ec9dc328",
   "metadata": {},
   "outputs": [],
   "source": [
    "# Conecta con el bucket público de GOES-19\n",
    "fs = s3fs.S3FileSystem(anon=True)"
   ]
  },
  {
   "cell_type": "code",
   "execution_count": 9,
   "id": "738eaeb9",
   "metadata": {},
   "outputs": [],
   "source": [
    "# función para buscar 12 archivos hacia atrás\n",
    "def obtener_archivos(fs, año_tex, dia_tex, hora_tex, max_archivos=12):\n",
    "    archivos = []\n",
    "\n",
    "    # Convertir a datetime para retroceder horas fácilmente\n",
    "    dt = datetime.datetime.strptime(f\"{año_tex}{dia_tex}{hora_tex}\", \"%Y%j%H\")\n",
    "\n",
    "    while len(archivos) < max_archivos:\n",
    "        # Construir ruta S3 para año, día juliano y hora\n",
    "        ruta_s3 = f'noaa-goes19/GLM-L2-LCFA/{dt.year}/{dt.timetuple().tm_yday:03d}/{dt.hour:02d}/'\n",
    "\n",
    "        try:\n",
    "            files_s3 = np.array(fs.ls(ruta_s3))\n",
    "            if len(files_s3) > 0:\n",
    "                archivos.extend(list(files_s3))\n",
    "        except FileNotFoundError:\n",
    "            # Si no existe la ruta, seguimos retrocediendo\n",
    "            pass\n",
    "\n",
    "        # Si ya tenemos suficientes, cortamos\n",
    "        if len(archivos) >= max_archivos:\n",
    "            break\n",
    "\n",
    "        # Retrocedemos una hora\n",
    "        dt -= datetime.timedelta(hours=1)\n",
    "\n",
    "    # Nos quedamos con los últimos \"max_archivos\", ordenados\n",
    "    archivos = sorted(archivos)[-max_archivos:]\n",
    "    return archivos"
   ]
  },
  {
   "cell_type": "code",
   "execution_count": 10,
   "id": "adc72a29",
   "metadata": {},
   "outputs": [
    {
     "name": "stdout",
     "output_type": "stream",
     "text": [
      "Archivo descargado: c:\\Users\\fabri\\Documents\\Python\\Desarrollos\\Storm_Detector\\GOES_19\\Scripts\\Descarga\\Archivos\\OR_GLM-L2-LCFA_G19_s20252552331000_e20252552331200_c20252552331217.nc\n",
      "Archivo descargado: c:\\Users\\fabri\\Documents\\Python\\Desarrollos\\Storm_Detector\\GOES_19\\Scripts\\Descarga\\Archivos\\OR_GLM-L2-LCFA_G19_s20252552331200_e20252552331400_c20252552331419.nc\n",
      "Archivo descargado: c:\\Users\\fabri\\Documents\\Python\\Desarrollos\\Storm_Detector\\GOES_19\\Scripts\\Descarga\\Archivos\\OR_GLM-L2-LCFA_G19_s20252552331400_e20252552332000_c20252552332016.nc\n",
      "Archivo descargado: c:\\Users\\fabri\\Documents\\Python\\Desarrollos\\Storm_Detector\\GOES_19\\Scripts\\Descarga\\Archivos\\OR_GLM-L2-LCFA_G19_s20252552332000_e20252552332200_c20252552332217.nc\n",
      "Archivo descargado: c:\\Users\\fabri\\Documents\\Python\\Desarrollos\\Storm_Detector\\GOES_19\\Scripts\\Descarga\\Archivos\\OR_GLM-L2-LCFA_G19_s20252552332200_e20252552332400_c20252552332418.nc\n",
      "Archivo descargado: c:\\Users\\fabri\\Documents\\Python\\Desarrollos\\Storm_Detector\\GOES_19\\Scripts\\Descarga\\Archivos\\OR_GLM-L2-LCFA_G19_s20252552332400_e20252552333000_c20252552333016.nc\n",
      "Archivo descargado: c:\\Users\\fabri\\Documents\\Python\\Desarrollos\\Storm_Detector\\GOES_19\\Scripts\\Descarga\\Archivos\\OR_GLM-L2-LCFA_G19_s20252552333000_e20252552333200_c20252552333220.nc\n",
      "Archivo descargado: c:\\Users\\fabri\\Documents\\Python\\Desarrollos\\Storm_Detector\\GOES_19\\Scripts\\Descarga\\Archivos\\OR_GLM-L2-LCFA_G19_s20252552333200_e20252552333400_c20252552333416.nc\n",
      "Archivo descargado: c:\\Users\\fabri\\Documents\\Python\\Desarrollos\\Storm_Detector\\GOES_19\\Scripts\\Descarga\\Archivos\\OR_GLM-L2-LCFA_G19_s20252552333400_e20252552334000_c20252552334017.nc\n",
      "Archivo descargado: c:\\Users\\fabri\\Documents\\Python\\Desarrollos\\Storm_Detector\\GOES_19\\Scripts\\Descarga\\Archivos\\OR_GLM-L2-LCFA_G19_s20252552334000_e20252552334200_c20252552334219.nc\n",
      "Archivo descargado: c:\\Users\\fabri\\Documents\\Python\\Desarrollos\\Storm_Detector\\GOES_19\\Scripts\\Descarga\\Archivos\\OR_GLM-L2-LCFA_G19_s20252552334200_e20252552334400_c20252552334417.nc\n",
      "Archivo descargado: c:\\Users\\fabri\\Documents\\Python\\Desarrollos\\Storm_Detector\\GOES_19\\Scripts\\Descarga\\Archivos\\OR_GLM-L2-LCFA_G19_s20252552334400_e20252552335000_c20252552335016.nc\n"
     ]
    }
   ],
   "source": [
    "# Uso de la función\n",
    "archivos_descargar = obtener_archivos(fs, año_tex, dia_tex, hora_tex, max_archivos=12)\n",
    "\n",
    "if len(archivos_descargar) == 0:\n",
    "    print(\"No se encontraron archivos en las últimas horas.\")\n",
    "else:\n",
    "    for archivo in archivos_descargar:\n",
    "        nombre_archivo = archivo.split('/')[-1]\n",
    "        destino = os.path.join(ruta_files, nombre_archivo)\n",
    "\n",
    "        # Descarga el archivo a la carpeta Archivos\n",
    "        fs.get(archivo, destino)\n",
    "        print(f\"Archivo descargado: {destino}\")"
   ]
  }
 ],
 "metadata": {
  "kernelspec": {
   "display_name": "Python 3",
   "language": "python",
   "name": "python3"
  },
  "language_info": {
   "codemirror_mode": {
    "name": "ipython",
    "version": 3
   },
   "file_extension": ".py",
   "mimetype": "text/x-python",
   "name": "python",
   "nbconvert_exporter": "python",
   "pygments_lexer": "ipython3",
   "version": "3.11.5"
  }
 },
 "nbformat": 4,
 "nbformat_minor": 5
}
